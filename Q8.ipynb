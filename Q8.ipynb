{
  "nbformat": 4,
  "nbformat_minor": 0,
  "metadata": {
    "colab": {
      "provenance": [],
      "collapsed_sections": []
    },
    "kernelspec": {
      "name": "python3",
      "display_name": "Python 3"
    },
    "language_info": {
      "name": "python"
    }
  },
  "cells": [
    {
      "cell_type": "code",
      "execution_count": 19,
      "metadata": {
        "colab": {
          "base_uri": "https://localhost:8080/"
        },
        "id": "R7H06psyEQRY",
        "outputId": "55abfda4-157e-4d8e-c1c8-86086cef6c01"
      },
      "outputs": [
        {
          "output_type": "stream",
          "name": "stdout",
          "text": [
            "The circle's area with radius 10 is 314 meters square.\n"
          ]
        }
      ],
      "source": [
        "# Given radius = 10\n",
        "radius = 10                                      # Given radius = 10\n",
        "area = 3.14 * radius ** 2                       # Finding the area\n",
        "print(\"The circle's area with radius {} is {} meters square.\".format(radius, int(area)))   \n",
        "                                                                  # Printing the string using the formatting string method "
      ]
    },
    {
      "cell_type": "code",
      "source": [],
      "metadata": {
        "id": "rAKLKaRNV_ar"
      },
      "execution_count": null,
      "outputs": []
    }
  ]
}