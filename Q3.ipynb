{
  "nbformat": 4,
  "nbformat_minor": 0,
  "metadata": {
    "colab": {
      "provenance": []
    },
    "kernelspec": {
      "name": "python3",
      "display_name": "Python 3"
    },
    "language_info": {
      "name": "python"
    }
  },
  "cells": [
    {
      "cell_type": "code",
      "execution_count": null,
      "metadata": {
        "id": "zFcWHrE7nQNx"
      },
      "outputs": [],
      "source": [
        "sisters = (\"pavani\", \"sita\", \"sri\", \"Keerthana\", \"Siri\", \"pooja\")  # Created Sisters tuple\n",
        "brothers = (\"Mani\", \"nik\", \"Anil\", \"pavan\")                             # Created Brothers  tuple \n",
        "siblings = sisters + brothers                                                              # Joined two tuples into a siblings tuple\n",
        "print(siblings)                                                                                      # Printing the siblings tuple\n",
        "len2 = len(siblings)                                                                           # Counting the number of siblings I have\n",
        "print(len2)                                                                                        # Printing the number of siblings I have\n",
        "family_members = siblings + (\"Ram Lanke\", \"Rashmi Lanke\",)   # Modifying & Adding my father and mother names\n",
        "print(family_members)                                                                         # Printing the family members tuple \n"
      ]
    }
  ]
}