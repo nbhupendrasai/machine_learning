{
  "nbformat": 4,
  "nbformat_minor": 0,
  "metadata": {
    "colab": {
      "provenance": [],
      "collapsed_sections": []
    },
    "kernelspec": {
      "name": "python3",
      "display_name": "Python 3"
    },
    "language_info": {
      "name": "python"
    }
  },
  "cells": [
    {
      "cell_type": "code",
      "execution_count": null,
      "metadata": {
        "colab": {
          "base_uri": "https://localhost:8080/"
        },
        "id": "R7H06psyEQRY",
        "outputId": "b5e7f1f9-6ae2-4800-a5e4-24dc7bd4e800"
      },
      "outputs": [
        {
          "output_type": "stream",
          "name": "stdout",
          "text": [
            "Area of circle the with radius 30 is 2827.4333882308138\n",
            "Circumference of circle the with radius 30 is 188.49555921538757\n"
          ]
        }
      ],
      "source": [
        "# Given the radius of a circle is 30 meters.\n",
        "from math import pi                                                                                    # importing pi from math module\n",
        "r = 30                                                                                                             # Given radius = 30\n",
        "area_of_circle = pi*r**2                                                                           # Finding the area of circle\n",
        "print(\"Area of circle the with radius 30 is \" + str(area_of_circle))    # Printing the area of circle\n",
        "circum_of_circle = 2*pi*r                                                              # Finding the circumference of the circle\n",
        "print(\"Circumference of circle the with radius 30 is \" + str(circum_of_circle))\n",
        "radius = float(input(\"Enter the radius of circle\"))       # Taking the radius as input from the user\n",
        "area_of_circle_new_radius = pi*radius**2                # Finding the area of circle\n",
        "print(\"Area of circle the with radius \"+str(radius) + \" is \" + str(area_of_circle_new_radius))\n"
      ]
    },
    {
      "cell_type": "code",
      "source": [],
      "metadata": {
        "id": "rAKLKaRNV_ar"
      },
      "execution_count": null,
      "outputs": []
    }
  ]
}