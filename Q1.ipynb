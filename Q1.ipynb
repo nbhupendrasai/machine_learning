{
  "nbformat": 4,
  "nbformat_minor": 0,
  "metadata": {
    "colab": {
      "provenance": []
    },
    "kernelspec": {
      "name": "python3",
      "display_name": "Python 3"
    },
    "language_info": {
      "name": "python"
    }
  },
  "cells": [
    {
      "cell_type": "code",
      "execution_count": null,
      "metadata": {
        "id": "zFcWHrE7nQNx"
      },
      "outputs": [],
      "source": [
        "ages = [19, 22, 19, 24, 20, 25, 26, 24, 25, 24]   # List of 10 Student Ages\n",
        "print(ages)                                   \t\t# printing the ages list\n",
        "ages.sort()                              \t\t      # sorting the Student ages\n",
        "print(ages)                           \t\t        # printing the Sorted student ages list\n",
        "x = min(ages)                             \t      # Finding the min of ages and storing it in Variable x\n",
        "y = max(ages)                                     # Finding the min of ages and storing it in Variable y\n",
        "print(x)                                          # Printing the value stored in variable x\n",
        "print(y)                                          # Printing the value stored in variable y\n",
        "ages.append(x)                                    # Adding the min value to the list\n",
        "print(ages)                                       # printing the ages list\n",
        "ages.append(y)                                    # Adding the max value to the list\n",
        "print(ages)                                       # printing the ages list\n",
        "c = len(ages)                                     # Finding the length of the list\n",
        "print(c)                                                                        # Printing the length\n",
        "d = (c-1)//2                                                                # Finding the floor division\n",
        "print(d)                                                                      # Printing the value of d\n",
        "median1 = (ages[d] + ages[d+1])/2                      # Finding the median\n",
        "print(median1)                                                        # Printing the median value\n",
        "sum1 = sum(ages)                                                  # Finding the sum of ages\n",
        "print(sum1)                                                             # Printing the sum of ages\n",
        "avg = sum1/c                                                          # Finding the average\n",
        "print(avg)                                                                # Printing the average\n",
        "range1 = y-x                                                          # Finding the range\n",
        "print(range1)                                                        # Printing the range\n"
      ]
    }
  ]
}