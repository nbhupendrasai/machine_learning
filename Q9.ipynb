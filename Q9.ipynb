{
  "nbformat": 4,
  "nbformat_minor": 0,
  "metadata": {
    "colab": {
      "provenance": [],
      "collapsed_sections": []
    },
    "kernelspec": {
      "name": "python3",
      "display_name": "Python 3"
    },
    "language_info": {
      "name": "python"
    }
  },
  "cells": [
    {
      "cell_type": "code",
      "execution_count": null,
      "metadata": {
        "id": "R7H06psyEQRY"
      },
      "outputs": [],
      "source": [
        "#Reading the number of students input from user\n",
        "student_count= int(input(\"Please, Enter the number of students \"))\n",
        "precised_students_wt=[]\n",
        "\n",
        "# Running a loop to student_count \n",
        "for index in range(student_count): \n",
        "    # Capturing the student weights from user                                                  \n",
        "    students_weight = int(input(\"Enter the weight of Student of student \" + str(index+1) + \": \"))   \n",
        "    # Converting the each weight to Lb's and Rounding each item to 2 decimal places and appending them to weight_lbs list                                                          \n",
        "    precised_students_wt.append(\"{:.2f}\".format(students_weight*0.453592))                       \n",
        "\n",
        "# Printing the result                                                                         \n",
        "print(precised_students_wt)     \n",
        "                                                                        "
      ]
    },
    {
      "cell_type": "code",
      "source": [],
      "metadata": {
        "id": "rAKLKaRNV_ar"
      },
      "execution_count": null,
      "outputs": []
    }
  ]
}