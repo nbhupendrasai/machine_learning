{
  "nbformat": 4,
  "nbformat_minor": 0,
  "metadata": {
    "colab": {
      "provenance": [],
      "collapsed_sections": []
    },
    "kernelspec": {
      "name": "python3",
      "display_name": "Python 3"
    },
    "language_info": {
      "name": "python"
    }
  },
  "cells": [
    {
      "cell_type": "code",
      "execution_count": 20,
      "metadata": {
        "colab": {
          "base_uri": "https://localhost:8080/"
        },
        "id": "R7H06psyEQRY",
        "outputId": "b8fb2316-9a80-4e72-c5ae-b9bcd5fbcda5"
      },
      "outputs": [
        {
          "output_type": "stream",
          "name": "stdout",
          "text": [
            "Name\tAge\tCountry\tCity\n",
            "Asabeneh\t250\tFinland\tHelsinki\n"
          ]
        }
      ],
      "source": [
        "# Given Name Age Country City\n",
        "#  Asabeneh 250 Finland Helsinki\n",
        "sequence = \"Name\\tAge\\tCountry\\tCity\\nAsabeneh\\t250\\tFinland\\tHelsinki\"  \n",
        "                                                          # Writing the sequence in the way we would like to get the output\n",
        "print(sequence)                                           # Printing the output\n"
      ]
    },
    {
      "cell_type": "code",
      "source": [],
      "metadata": {
        "id": "rAKLKaRNV_ar"
      },
      "execution_count": null,
      "outputs": []
    }
  ]
}