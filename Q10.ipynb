{
  "nbformat": 4,
  "nbformat_minor": 0,
  "metadata": {
    "colab": {
      "provenance": [],
      "collapsed_sections": []
    },
    "kernelspec": {
      "name": "python3",
      "display_name": "Python 3"
    },
    "language_info": {
      "name": "python"
    }
  },
  "cells": [
    {
      "cell_type": "code",
      "execution_count": 17,
      "metadata": {
        "colab": {
          "base_uri": "https://localhost:8080/"
        },
        "id": "R7H06psyEQRY",
        "outputId": "89cb7982-4713-4928-874e-b7a308dc2b21"
      },
      "outputs": [
        {
          "output_type": "stream",
          "name": "stdout",
          "text": [
            "[[ 6]\n",
            " [ 3]\n",
            " [ 7]\n",
            " [11]] [[ 2]\n",
            " [10]\n",
            " [ 1]\n",
            " [ 6]] [[1]\n",
            " [1]\n",
            " [0]\n",
            " [0]] [[0]\n",
            " [0]\n",
            " [0]\n",
            " [1]]\n"
          ]
        }
      ],
      "source": [
        "import numpy\n",
        "from sklearn.model_selection import train_test_split\n",
        "from sklearn.neighbors import KNeighborsClassifier\n",
        "from sklearn.metrics import accuracy_score\n",
        "from collections import Counter\n",
        "import numpy as np\n",
        "\n",
        "# creating an array to understand its attributes\n",
        "a = np.array([1,2,3,6,6,7,10,11])\n",
        "y = np.array([0,0,1,1,1,0,0,0])\n",
        "\n",
        "x_train,x_test,y_train,y_test=train_test_split(a,y,test_size=0.5,random_state=4,stratify = y)\n",
        "x_train = x_train.reshape(-1,1)\n",
        "x_test = x_test.reshape(-1,1)\n",
        "y_train = y_train.reshape(-1,1)\n",
        "y_test = y_test.reshape(-1,1)\n",
        "print(x_train,x_test,y_train,y_test)\n",
        "\n",
        "def KNN(x,y,k,z):\n",
        "    dist = []\n",
        "    # Computing Euclidean distance\n",
        "    dist_ind = np.sqrt(np.sum((x-y)**2, axis=1))\n",
        "    print(dist_ind)\n",
        "    # Concatinating the label with the distance\n",
        "    main_arr = np.column_stack((z,dist_ind))\n",
        "    print(main_arr)\n",
        "    # Sorting the distance in ascending order\n",
        "    main = main_arr[main_arr[:,1].argsort()]\n",
        "    # Calculating the frequency of the labels based on value of K\n",
        "    count = Counter(main[0:k,0])\n",
        "    keys, vals = list(count.keys()), list(count.values())\n",
        "    if len(vals)>1:\n",
        "        if vals[0]>vals[1]:\n",
        "            return int(keys[0])\n",
        "        else:\n",
        "            return int(keys[1])\n",
        "    else:\n",
        "        return int(keys[0])\n"
      ]
    },
    {
      "cell_type": "code",
      "source": [],
      "metadata": {
        "id": "rAKLKaRNV_ar"
      },
      "execution_count": null,
      "outputs": []
    }
  ]
}