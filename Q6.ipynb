{
  "nbformat": 4,
  "nbformat_minor": 0,
  "metadata": {
    "colab": {
      "provenance": [],
      "collapsed_sections": []
    },
    "kernelspec": {
      "name": "python3",
      "display_name": "Python 3"
    },
    "language_info": {
      "name": "python"
    }
  },
  "cells": [
    {
      "cell_type": "code",
      "execution_count": 21,
      "metadata": {
        "colab": {
          "base_uri": "https://localhost:8080/"
        },
        "id": "R7H06psyEQRY",
        "outputId": "329d3b72-ecad-41e1-a606-b900fbd6876c"
      },
      "outputs": [
        {
          "output_type": "stream",
          "name": "stdout",
          "text": [
            "['I', 'am', 'a', 'teacher', 'and', 'I', 'love', 'to', 'inspire', 'and', 'teach', 'people']\n",
            "{'a', 'people', 'teacher', 'inspire', 'teach', 'love', 'I', 'am', 'to', 'and'}\n",
            "The number of unique words in the given string :   10\n"
          ]
        }
      ],
      "source": [
        "  # Given string is “I am a teacher and I love to inspire and teach people”\n",
        "str2 = \"I am a teacher and I love to inspire and teach people\"  # Loaded given string into str1 \n",
        "str2split = str2.split()                                        # Splitting the given string using split() function\n",
        "print(str2split)                                                    # Printing the string after splitting\n",
        "result = set(str2split)                                         # Converting the list into set to remove duplicates\n",
        "print(result)                                                        # Printing the set with unique words\n",
        "print(\"The number of unique words in the given string :  \", len(result))   \n",
        "                                                                             # Printing the number of unique words\n"
      ]
    },
    {
      "cell_type": "code",
      "source": [],
      "metadata": {
        "id": "rAKLKaRNV_ar"
      },
      "execution_count": null,
      "outputs": []
    }
  ]
}