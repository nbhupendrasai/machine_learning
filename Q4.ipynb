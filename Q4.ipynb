{
  "nbformat": 4,
  "nbformat_minor": 0,
  "metadata": {
    "colab": {
      "provenance": [],
      "collapsed_sections": []
    },
    "kernelspec": {
      "name": "python3",
      "display_name": "Python 3"
    },
    "language_info": {
      "name": "python"
    }
  },
  "cells": [
    {
      "cell_type": "code",
      "execution_count": null,
      "metadata": {
        "colab": {
          "base_uri": "https://localhost:8080/"
        },
        "id": "R7H06psyEQRY",
        "outputId": "b5e7f1f9-6ae2-4800-a5e4-24dc7bd4e800"
      },
      "outputs": [
        {
          "output_type": "stream",
          "name": "stdout",
          "text": [
            "Area of circle the with radius 30 is 2827.4333882308138\n",
            "Circumference of circle the with radius 30 is 188.49555921538757\n"
          ]
        }
      ],
      "source": [
        "it_companies = {'Meta', 'Google', 'TCS', 'Apple', 'Flipkart', 'Oracle', 'Amazon'}    # Created set\n",
        "A = {19, 22, 24, 20, 25, 26}                                                                   # Created A set\n",
        "B = {19, 22, 20, 25, 26, 24, 28, 27}                                                      # Created B set\n",
        "age = [22, 19, 24, 25, 26, 24, 25, 24]                                                  # Created age set\n",
        "len2 = len(it_companies)                                                 # Finding the length of the it_companies set\n",
        "print(len2)                                                                           # Printing the length of the it_companies set\n",
        "it_companies.add(\"Google\")                                              # Added twitter to it_companies\n",
        "print(it_companies)                                                             # Printing the it_companies\n",
        "it_companies1 = {\"Snapchat\", \"Accenture\", \"IBM\", \"Deloitte\", \"Doordash\", \"Walmart\"}    # Creating multiple it_companies1 set\n",
        "it_companies.update(it_companies1)                               # Inserting multiple it_companies1 set to it_companies\n",
        "print(it_companies)                                                        # Printing it_companies after inserting\n",
        "it_companies.remove(\"TCS\")                            # Removing one company from it_companies\n",
        "print(it_companies)                                                         # Printing after removing\n",
        "\n",
        "print(A.union(B))                                                            # Joining A and B\n",
        "print(A.intersection(B))                                                # Finding A intersection B\n",
        "print(A.issubset(B))                                           # Finding whether A is subset of B\n",
        "print(A.isdisjoint(B))                                         # Finding whether A and B are disjoint sets\n",
        "print(A.union(B))                                              # Joining A with B\n",
        "print(B.union(A))                                              # Joining B with A\n",
        "print(A.symmetric_difference(B))                 # Finding the symmetric difference between A and B\n",
        "A.clear()                                                              # Deleting the set A completely\n",
        "print(A)                                                               # Checking whether it is deleted or not\n",
        "B.clear()                                                              # Deleting the set B completely\n",
        "print(B)                                                                # Checking whether it is deleted or not\n",
        "age_set = set(age)                                              # Converting the list to set\n",
        "print(age_set)                                                    # Printing the converted set\n",
        "list_len = len(age)                                             # Finding the length of the list\n",
        "print(list_len)                                                    # Printing the length of the list\n",
        "set_len = len(age_set)                                       # Finding the length of the set\n",
        "print(set_len)                                                   # Printing the length of the set\n"
      ]
    },
    {
      "cell_type": "code",
      "source": [],
      "metadata": {
        "id": "rAKLKaRNV_ar"
      },
      "execution_count": null,
      "outputs": []
    }
  ]
}