{
  "nbformat": 4,
  "nbformat_minor": 0,
  "metadata": {
    "colab": {
      "provenance": []
    },
    "kernelspec": {
      "name": "python3",
      "display_name": "Python 3"
    },
    "language_info": {
      "name": "python"
    }
  },
  "cells": [
    {
      "cell_type": "code",
      "execution_count": null,
      "metadata": {
        "id": "zFcWHrE7nQNx"
      },
      "outputs": [],
      "source": [
        "dog = dict()                                       \t\t\t   # Created an empty dog dictionary\n",
        "dog[\"name\"] = \"German Shepherd\"              \t                 # Adding name of the dog\n",
        "dog[\"color\"] = \"Brownish\"                                                              # Adding color of the dog\n",
        "dog[\"breed\"] = \" Deutsche\"                                    # Adding Breed of the dog\n",
        "dog[\"legs\"] = 2                                                                            # Adding no of legs of the dog\n",
        "dog[\"age\"] = 6                                                                          # Adding age of the dog\n",
        "print(dog)                                                                                  # Printing the dog dictionary\n",
        "\n",
        "student = dict()                                                                        # Creating an empty student dictionary\n",
        "student[\"first_name\"] = \"NIKHIL\"                                       # Adding firstname to the student dictionary\n",
        "student[\"last_name\"] = \"JOHN\"                                        # Adding lastname to the student dictionary\n",
        "student[\"gender\"] = \"Male\"                                                # Adding gender to the student dictionary\n",
        "student[\"age\"] = 24                                                             # Adding age to the student dictionary\n",
        "student[\"marital status\"] = \"Married\"                                # Adding marital status to the student dictionary\n",
        "student[\"skills\"] = [\"C\", \"C++\", \"Python\"]                      # Adding skills to the student dictionary\n",
        "student[\"country\"] = \"INDIA\"                                             # Adding country to the student dictionary\n",
        "student[\"city\"] = \"Overland Park\"                                  # Adding city to the student dictionary\n",
        "student[\"address\"] = \"135th Street, Stateline Apt\"        # Adding address to the student  \n",
        "print(student)                                                                                     # Printing student dictionary\n",
        "len1 = len(student)                                                                  # Finding the length of the student dictionary\n",
        "print(len1)                                                                              # Printing the length of the student dictionary\n",
        "print(student[\"skills\"])                                                        # Getting the skills in the list format\n",
        "print(type(student[\"skills\"]))                                             # Printing the type of the student skills\n",
        "student[\"skills\"].extend([\"Machine Learning\", \"SQL\", \"DATABASE MANAGMNENT\"])    # Modifying the skills values \n",
        "print(student[\"skills\"])                                           # Printing the skills of the student dictionary\n",
        "print(student.keys())                                             # Printing the student dictionary keys as a list\n",
        "print(student.values())                                         # Printing the student dictionary values as a list\n"
      ]
    }
  ]
}